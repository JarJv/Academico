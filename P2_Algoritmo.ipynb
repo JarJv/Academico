{
  "nbformat": 4,
  "nbformat_minor": 0,
  "metadata": {
    "colab": {
      "provenance": [],
      "authorship_tag": "ABX9TyPxPMrc0D3bsZdUmW0RVeZl",
      "include_colab_link": true
    },
    "kernelspec": {
      "name": "python3",
      "display_name": "Python 3"
    },
    "language_info": {
      "name": "python"
    }
  },
  "cells": [
    {
      "cell_type": "markdown",
      "metadata": {
        "id": "view-in-github",
        "colab_type": "text"
      },
      "source": [
        "<a href=\"https://colab.research.google.com/github/JarJv/Academico/blob/main/P2_Algoritmo.ipynb\" target=\"_parent\"><img src=\"https://colab.research.google.com/assets/colab-badge.svg\" alt=\"Open In Colab\"/></a>"
      ]
    },
    {
      "cell_type": "markdown",
      "source": [
        "###**(Questão 1)**\n",
        "João Papo-de-Pescador, homem de bem, comprou um microcomputador para\n",
        "controlar o rendimento diário de seu trabalho. Toda vez que ele traz um peso de peixes maior\n",
        "que o estabelecido pelo regulamento de pesca do estado de São Paulo (50 quilos) deve pagar\n",
        "uma multa de R$ 4,00 por quilo excedente. João precisa que você faça um programa que leia\n",
        "a variável peso (peso de peixes) e calcule o excesso. Gravar na variável excesso a quantidade\n",
        "de quilos além do limite e na variável multa o valor da multa que João deverá pagar. Imprima\n",
        "os dados do programa com as mensagens adequadas."
      ],
      "metadata": {
        "id": "iKSXmItnVttt"
      }
    },
    {
      "cell_type": "code",
      "execution_count": 17,
      "metadata": {
        "colab": {
          "base_uri": "https://localhost:8080/"
        },
        "id": "10X8ldEiVeNM",
        "outputId": "baecccae-488a-4d80-e8ad-d36b3361f3e4"
      },
      "outputs": [
        {
          "output_type": "stream",
          "name": "stdout",
          "text": [
            "Digite quantos quilos de peixe serão contados: 51\n",
            "Você ultrapassou o limite do regulamento! devido ao excesso de aproximadamente 1.0kg, você deverá pagar uma multa de R$4.0 reais.\n"
          ]
        }
      ],
      "source": [
        "#Resolução questão 1\n",
        "peso = float(input(\"Digite quantos quilos de peixe serão contados: \"))\n",
        "\n",
        "if peso > 50:\n",
        "  excesso = peso - 50\n",
        "  multa = excesso * 4.00\n",
        "  print(f\"Você ultrapassou o limite do regulamento! devido ao excesso de aproximadamente {excesso:.2}kg, você deverá pagar uma multa de R${multa:.2} reais.\")\n",
        "else:\n",
        "  print(f\"O limite de 50kg, estabelecido pelo regulamento, não foi ultrapassado. Parabéns pelos {peso}kg de rendimento hoje!\")"
      ]
    },
    {
      "cell_type": "markdown",
      "source": [
        "###**(Questão 2)**\n",
        "Escreva um algoritmo que calcule a média dos números digitados se eles forem\n",
        "pares. Termine a leitura se o usuário digitar 0"
      ],
      "metadata": {
        "id": "KiRjCyQ9YzMc"
      }
    },
    {
      "cell_type": "code",
      "source": [
        "#Resolução questão 2\n",
        "new_valor = 1\n",
        "numeros = []\n",
        "\n",
        "def media(valores):\n",
        "  media = 0\n",
        "  valores.remove(0)\n",
        "  for x in valores:\n",
        "    media += x\n",
        "  media = media/len(valores)\n",
        "  return print(f\"A média entre os números {valores} é {media:.2}\")\n",
        "\n",
        "while new_valor != 0:\n",
        "  new_valor = float(input(\"Digite um número (a contagem se repetirá e só irá parar quando digitar 0): \"))\n",
        "  numeros.append(new_valor)\n",
        "\n",
        "media(numeros)"
      ],
      "metadata": {
        "colab": {
          "base_uri": "https://localhost:8080/"
        },
        "id": "bExrb-ztXzIy",
        "outputId": "4f6651d1-0ec9-4813-f5dc-a86a7e80633d"
      },
      "execution_count": 77,
      "outputs": [
        {
          "output_type": "stream",
          "name": "stdout",
          "text": [
            "Digite um número (a contagem se repetirá e só irá parar quando digitar 0): 4\n",
            "Digite um número (a contagem se repetirá e só irá parar quando digitar 0): 5\n",
            "Digite um número (a contagem se repetirá e só irá parar quando digitar 0): 0\n",
            "A média entre os números [4.0, 5.0] é 4.5\n"
          ]
        }
      ]
    },
    {
      "cell_type": "markdown",
      "source": [
        "###**(Questão 3)**\n",
        "Supondo que a população de um país A seja da ordem de 80000 habitantes com\n",
        "uma taxa anual de crescimento de 3% e que a população de B seja 200000 habitantes com uma\n",
        "taxa de crescimento de 1.5%. Faça um programa que calcule e escreva o número de anos\n",
        "necessários para que a população do país A ultrapasse ou iguale a população do país B, mantidas\n",
        "as taxas de crescimento."
      ],
      "metadata": {
        "id": "YELdkDHOZbgk"
      }
    },
    {
      "cell_type": "code",
      "source": [
        "#Resolução questão 3\n",
        "pop_a = 80000\n",
        "pop_b = 200000\n",
        "anos = 0\n",
        "\n",
        "print(f\"A população do país A é de {pop_a} habitantes, assim como a do país B é de {pop_b} habitantes.\")\n",
        "\n",
        "while pop_a < pop_b:\n",
        "  pop_a += pop_a * 0.03\n",
        "  pop_b += pop_b * 0.015\n",
        "  anos += 1\n",
        "print(f\"Após {anos} anos, o país A ({pop_a:,} habitantes) passou a população do país B ({pop_b:,} habitantes).\")"
      ],
      "metadata": {
        "colab": {
          "base_uri": "https://localhost:8080/"
        },
        "id": "Nmf6jjcrZg8N",
        "outputId": "45543b68-b6b0-4521-e713-fa0271e78954"
      },
      "execution_count": 56,
      "outputs": [
        {
          "output_type": "stream",
          "name": "stdout",
          "text": [
            "A população do país A é de 80000 habitantes, assim como a do país B é de 200000 habitantes.\n",
            "Após 63 anos, o país A (515,033.10280596686 habitantes) passou a população do país B (510,964.41696222295 habitantes).\n"
          ]
        }
      ]
    },
    {
      "cell_type": "markdown",
      "source": [
        "###**(Questão 4)**\n",
        "Escreva um programa que leia um valor correspondente ao número de jogadores\n",
        "de um time de vôlei. O programa deve solicitar a altura de cada um dos jogadores e ao final\n",
        "informar a altura média do time."
      ],
      "metadata": {
        "id": "R8arty4Ceaie"
      }
    },
    {
      "cell_type": "code",
      "source": [
        "#Resolução questão 4\n",
        "alturas =[]\n",
        "media = 0\n",
        "\n",
        "time = int(input(\"Digite quantos jogadores tem no time de vôlei: \"))\n",
        "for x in range(time):\n",
        "  a = float(input(f\"Digite a altura do jogador {x+1}: \"))\n",
        "  alturas.append(a)\n",
        "  media += a\n",
        "\n",
        "media = media/len(alturas)\n",
        "print(f\"A altura média do time de vôléi é {media:.3} metros.\")"
      ],
      "metadata": {
        "colab": {
          "base_uri": "https://localhost:8080/"
        },
        "id": "4-HWz88Nee-K",
        "outputId": "90c700c2-f811-4226-ec1a-e56d392883a8"
      },
      "execution_count": 57,
      "outputs": [
        {
          "output_type": "stream",
          "name": "stdout",
          "text": [
            "Digite quantos jogadores tem no time de vôlei: 4\n",
            "Digite a altura do jogador 1: 1.83\n",
            "Digite a altura do jogador 2: 1.80\n",
            "Digite a altura do jogador 3: 1.74\n",
            "Digite a altura do jogador 4: 1.77\n",
            "A altura média do time de vôléi é 1.79 metros.\n"
          ]
        }
      ]
    }
  ]
}