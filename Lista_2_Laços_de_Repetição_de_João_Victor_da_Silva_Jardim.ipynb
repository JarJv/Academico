{
  "nbformat": 4,
  "nbformat_minor": 0,
  "metadata": {
    "colab": {
      "provenance": [],
      "include_colab_link": true
    },
    "kernelspec": {
      "name": "python3",
      "display_name": "Python 3"
    },
    "language_info": {
      "name": "python"
    }
  },
  "cells": [
    {
      "cell_type": "markdown",
      "metadata": {
        "id": "view-in-github",
        "colab_type": "text"
      },
      "source": [
        "<a href=\"https://colab.research.google.com/github/JarJv/Academico/blob/main/Lista_2_La%C3%A7os_de_Repeti%C3%A7%C3%A3o_de_Jo%C3%A3o_Victor_da_Silva_Jardim.ipynb\" target=\"_parent\"><img src=\"https://colab.research.google.com/assets/colab-badge.svg\" alt=\"Open In Colab\"/></a>"
      ]
    },
    {
      "cell_type": "markdown",
      "source": [
        "1- Faça um programa que peça uma nota, entre zero e dez. Mostre uma mensagem caso o valor seja inválido e continue pedindo até que o usuário informe um valor válido."
      ],
      "metadata": {
        "id": "4xtRGDIMbF0z"
      }
    },
    {
      "cell_type": "code",
      "execution_count": null,
      "metadata": {
        "id": "nWgB0lvZa5xh",
        "colab": {
          "base_uri": "https://localhost:8080/"
        },
        "outputId": "2054f96b-c96b-42b5-d443-4f1b807d1d86"
      },
      "outputs": [
        {
          "name": "stdout",
          "output_type": "stream",
          "text": [
            "Digite um número entre zero e 10: -1\n",
            "Por favor, digite um número entre 0 e 10: 11\n",
            "Por favor, digite um número entre 0 e 10: 5\n"
          ]
        }
      ],
      "source": [
        "#resolução do exercício 1\n",
        "num = int(input(\"Digite um número entre zero e 10: \"))\n",
        "\n",
        "while num < 0 or num > 10:\n",
        "  num = int(input(\"Por favor, digite um número entre 0 e 10: \"))"
      ]
    },
    {
      "cell_type": "markdown",
      "source": [
        "2- Faça um programa que leia um nome de usuário e a sua senha e não aceite a senha igual ao nome do usuário, mostrando uma mensagem de erro e voltando a pedir as informações."
      ],
      "metadata": {
        "id": "RIejwl4mbK7z"
      }
    },
    {
      "cell_type": "code",
      "source": [
        "#resolução exercício 2\n",
        "nome = input(\"Digite seu nome de usuário: \")\n",
        "senha = input(\"Digite sua senha: \")\n",
        "\n",
        "while nome == senha:\n",
        "  print(\"ERRO! Sua senha não pode ser igual ao seu nome de usuário!\")\n",
        "  nome = input(\"Digite seu nome de usuário: \")\n",
        "  senha = input(\"Digite sua senha: \")"
      ],
      "metadata": {
        "id": "QVwlvuQDbREK",
        "colab": {
          "base_uri": "https://localhost:8080/"
        },
        "outputId": "e197d814-299b-47d1-b24c-d5e6b6063e35"
      },
      "execution_count": null,
      "outputs": [
        {
          "name": "stdout",
          "output_type": "stream",
          "text": [
            "Digite seu nome de usuário: João\n",
            "Digite sua senha: João\n",
            "ERRO! Sua senha não pode ser igual ao seu nome de usuário!\n",
            "Digite seu nome de usuário: Victor\n",
            "Digite sua senha: Victor\n",
            "ERRO! Sua senha não pode ser igual ao seu nome de usuário!\n",
            "Digite seu nome de usuário: Victor\n",
            "Digite sua senha: 1234\n"
          ]
        }
      ]
    },
    {
      "cell_type": "markdown",
      "source": [
        "3- Faça um programa que leia e valide as seguintes informações:\n",
        "*   Nome: maior que 3 caracteres;\n",
        "*   Idade: entre 0 e 150;\n",
        "*   Salário: maior que zero;\n",
        "*   Sexo: 'f' ou 'm';\n",
        "*   Estado Civil: 's', 'c', 'v', 'd';\n",
        "\n",
        "**Use a função `len(string)` para saber o tamanho de um texto (número de caracteres).**"
      ],
      "metadata": {
        "id": "IjjosQBibRzj"
      }
    },
    {
      "cell_type": "code",
      "source": [
        "#resolução exercício 3\n",
        "nome_ex_3 = input(\"Digite seu nome: \")\n",
        "while len(nome_ex_3) <= 3:\n",
        "  nome_ex_3 = input(\"Seu nome precisa ter mais de 3 caracteres: \")\n",
        "\n",
        "idade = int(input(\"Digite sua idade: \"))\n",
        "while idade < 0 or idade > 150:\n",
        "  idade = int(input(\"Sua idade precisa estar entre 0 e 150: \"))\n",
        "\n",
        "sal = float(input(\"Digite seu salário: \"))\n",
        "while sal <=0:\n",
        "  sal = float(input(\"Seu salário deve ser maior que zero: \"))\n",
        "\n",
        "sex = input(\"Digite seu sexo [f/m]: \")\n",
        "while (sex != \"f\") and (sex != \"f\"):\n",
        "  sex = input(\"Digite um dos sexos conforme a legenda [f/m]: \")\n",
        "\n",
        "estcivil = input(\"Digite seu estado civil conforme legenda:\\n CASADO = c\\n SOLTEIRO = s\\n  VIÚVO = v\\n DIVORCIADO = d\\nDigite: \")\n",
        "while estcivil != \"s\" and estcivil != \"c\" and estcivil != \"v\"and estcivil != \"d\":\n",
        "  estcivil = input(\"Digite seu estado civil conforme legenda:\\n CASADO = c\\n SOLTEIRO = s\\n VIÚVO = v\\n DIVORCIADO = d\\nDigite: \")"
      ],
      "metadata": {
        "id": "SZQsLLeMbtDS",
        "colab": {
          "base_uri": "https://localhost:8080/"
        },
        "outputId": "32a142cd-bf65-4511-f023-5437ea34d9eb"
      },
      "execution_count": null,
      "outputs": [
        {
          "name": "stdout",
          "output_type": "stream",
          "text": [
            "Digite seu nome: gil\n",
            "Seu nome precisa ter mais de 3 caracteres: filmar\n",
            "Digite sua idade: 0\n",
            "Digite seu salário: 0\n",
            "Seu salário deve ser maior que zero: 200\n",
            "Digite seu sexo [f/m]: a\n",
            "-1\n",
            "Digite um dos sexos conforme a legenda [f/m]: f\n",
            "Digite seu estado civil conforme legenda:\n",
            " CASADO = c\n",
            " SOLTEIRO = s\n",
            "  VIÚVO = v\n",
            " DIVORCIADO = d\n",
            " : a\n",
            "Digite seu estado civil conforme legenda:\n",
            " CASADO = c\n",
            " SOLTEIRO = s\n",
            "  VIÚVO = v\n",
            " DIVORCIADO = d\n",
            " : c\n"
          ]
        }
      ]
    },
    {
      "cell_type": "markdown",
      "source": [
        "4- Supondo que a população de um país A seja da ordem de 80000 habitantes com uma taxa anual de crescimento de 3% e que a população de B seja 200000 habitantes com uma taxa de crescimento de 1.5%. Faça um programa que calcule e escreva o número de anos necessários para que a população do país A ultrapasse ou iguale a população do país B, mantidas as taxas de crescimento."
      ],
      "metadata": {
        "id": "yzuu9ZKubt1L"
      }
    },
    {
      "cell_type": "code",
      "source": [
        "#resolução exercício 4\n",
        "pais_a = 80000\n",
        "pais_b = 200000\n",
        "anos = 1\n",
        "\n",
        "while pais_a < pais_b:\n",
        "  print(f\"no ano nº{anos} a população de A é de {pais_a:.2f} e a população de B é de {pais_b:.2f}!\")\n",
        "  pais_a += pais_a * 0.03\n",
        "  pais_b += pais_b * 0.015\n",
        "  anos += 1\n",
        "\n",
        "print(\"em {} anos, o país A foi capaz de alcançar a população do país B.\".format(anos-1))"
      ],
      "metadata": {
        "id": "n_mSFkoqbzhb",
        "colab": {
          "base_uri": "https://localhost:8080/"
        },
        "outputId": "236662dd-ab7a-4496-b32e-edeb67804f30"
      },
      "execution_count": null,
      "outputs": [
        {
          "output_type": "stream",
          "name": "stdout",
          "text": [
            "no ano nº1 a população de A é de 80000.00 e a população de B é de 200000.00!\n",
            "no ano nº2 a população de A é de 82400.00 e a população de B é de 203000.00!\n",
            "no ano nº3 a população de A é de 84872.00 e a população de B é de 206045.00!\n",
            "no ano nº4 a população de A é de 87418.16 e a população de B é de 209135.67!\n",
            "no ano nº5 a população de A é de 90040.70 e a população de B é de 212272.71!\n",
            "no ano nº6 a população de A é de 92741.93 e a população de B é de 215456.80!\n",
            "no ano nº7 a população de A é de 95524.18 e a população de B é de 218688.65!\n",
            "no ano nº8 a população de A é de 98389.91 e a população de B é de 221968.98!\n",
            "no ano nº9 a população de A é de 101341.61 e a população de B é de 225298.52!\n",
            "no ano nº10 a população de A é de 104381.85 e a população de B é de 228678.00!\n",
            "no ano nº11 a população de A é de 107513.31 e a população de B é de 232108.17!\n",
            "no ano nº12 a população de A é de 110738.71 e a população de B é de 235589.79!\n",
            "no ano nº13 a população de A é de 114060.87 e a população de B é de 239123.63!\n",
            "no ano nº14 a população de A é de 117482.70 e a população de B é de 242710.49!\n",
            "no ano nº15 a população de A é de 121007.18 e a população de B é de 246351.15!\n",
            "no ano nº16 a população de A é de 124637.39 e a população de B é de 250046.41!\n",
            "no ano nº17 a população de A é de 128376.52 e a população de B é de 253797.11!\n",
            "no ano nº18 a população de A é de 132227.81 e a população de B é de 257604.07!\n",
            "no ano nº19 a população de A é de 136194.64 e a população de B é de 261468.13!\n",
            "no ano nº20 a população de A é de 140280.48 e a população de B é de 265390.15!\n",
            "no ano nº21 a população de A é de 144488.90 e a população de B é de 269371.00!\n",
            "no ano nº22 a população de A é de 148823.57 e a população de B é de 273411.57!\n",
            "no ano nº23 a população de A é de 153288.27 e a população de B é de 277512.74!\n",
            "no ano nº24 a população de A é de 157886.92 e a população de B é de 281675.43!\n",
            "no ano nº25 a população de A é de 162623.53 e a população de B é de 285900.56!\n",
            "no ano nº26 a população de A é de 167502.23 e a população de B é de 290189.07!\n",
            "no ano nº27 a população de A é de 172527.30 e a população de B é de 294541.91!\n",
            "no ano nº28 a população de A é de 177703.12 e a população de B é de 298960.04!\n",
            "no ano nº29 a população de A é de 183034.21 e a população de B é de 303444.44!\n",
            "no ano nº30 a população de A é de 188525.24 e a população de B é de 307996.10!\n",
            "no ano nº31 a população de A é de 194181.00 e a população de B é de 312616.04!\n",
            "no ano nº32 a população de A é de 200006.43 e a população de B é de 317305.28!\n",
            "no ano nº33 a população de A é de 206006.62 e a população de B é de 322064.86!\n",
            "no ano nº34 a população de A é de 212186.82 e a população de B é de 326895.84!\n",
            "no ano nº35 a população de A é de 218552.42 e a população de B é de 331799.27!\n",
            "no ano nº36 a população de A é de 225109.00 e a população de B é de 336776.26!\n",
            "no ano nº37 a população de A é de 231862.27 e a população de B é de 341827.91!\n",
            "no ano nº38 a população de A é de 238818.13 e a população de B é de 346955.33!\n",
            "no ano nº39 a população de A é de 245982.68 e a população de B é de 352159.66!\n",
            "no ano nº40 a população de A é de 253362.16 e a população de B é de 357442.05!\n",
            "no ano nº41 a população de A é de 260963.02 e a população de B é de 362803.68!\n",
            "no ano nº42 a população de A é de 268791.91 e a população de B é de 368245.74!\n",
            "no ano nº43 a população de A é de 276855.67 e a população de B é de 373769.42!\n",
            "no ano nº44 a população de A é de 285161.34 e a população de B é de 379375.96!\n",
            "no ano nº45 a população de A é de 293716.18 e a população de B é de 385066.60!\n",
            "no ano nº46 a população de A é de 302527.67 e a população de B é de 390842.60!\n",
            "no ano nº47 a população de A é de 311603.50 e a população de B é de 396705.24!\n",
            "no ano nº48 a população de A é de 320951.60 e a população de B é de 402655.82!\n",
            "no ano nº49 a população de A é de 330580.15 e a população de B é de 408695.66!\n",
            "no ano nº50 a população de A é de 340497.55 e a população de B é de 414826.09!\n",
            "no ano nº51 a população de A é de 350712.48 e a população de B é de 421048.48!\n",
            "no ano nº52 a população de A é de 361233.86 e a população de B é de 427364.21!\n",
            "no ano nº53 a população de A é de 372070.87 e a população de B é de 433774.67!\n",
            "no ano nº54 a população de A é de 383233.00 e a população de B é de 440281.29!\n",
            "no ano nº55 a população de A é de 394729.99 e a população de B é de 446885.51!\n",
            "no ano nº56 a população de A é de 406571.89 e a população de B é de 453588.80!\n",
            "no ano nº57 a população de A é de 418769.04 e a população de B é de 460392.63!\n",
            "no ano nº58 a população de A é de 431332.12 e a população de B é de 467298.52!\n",
            "no ano nº59 a população de A é de 444272.08 e a população de B é de 474308.00!\n",
            "no ano nº60 a população de A é de 457600.24 e a população de B é de 481422.62!\n",
            "no ano nº61 a população de A é de 471328.25 e a população de B é de 488643.96!\n",
            "no ano nº62 a população de A é de 485468.10 e a população de B é de 495973.61!\n",
            "no ano nº63 a população de A é de 500032.14 e a população de B é de 503413.22!\n",
            "em 63 anos, o país A foi capaz de alcançar a população do país B.\n"
          ]
        }
      ]
    },
    {
      "cell_type": "markdown",
      "source": [
        "5- Altere o programa anterior permitindo ao usuário informar as populações e as taxas de crescimento iniciais. Valide a entrada e permita repetir a operação."
      ],
      "metadata": {
        "id": "6S1XgUIZb0ty"
      }
    },
    {
      "cell_type": "code",
      "source": [
        "#resolução exercício 5\n",
        "planeta_a = float(input(\"Digite a população do planeta A: \"))\n",
        "planeta_b = float(input(\"Digite a população do planeta B: \"))\n",
        "remake = \"s\"\n",
        "\n",
        "while remake.lower() == \"s\":\n",
        "  anos = 1\n",
        "  while planeta_a > planeta_b:\n",
        "    print(\"O planeta A já é mais populoso que o planeta B!\")\n",
        "    planeta_a = float(input(\"Digite a população do planeta A: \"))\n",
        "    planeta_b = float(input(\"Digite a população do planeta B: \"))\n",
        "\n",
        "  while planeta_a < planeta_b:\n",
        "    print(f\"no ano nº{anos} a população de A é de {planeta_a:.2f} e a população de B é de {planeta_b:.2f}!\")\n",
        "    planeta_a += planeta_a * 0.03\n",
        "    planeta_b += planeta_b * 0.015\n",
        "    anos += 1\n",
        "\n",
        "  print(\"em {} anos, o planeta A foi capaz de alcançar a população do planeta B.\".format(anos-1))\n",
        "\n",
        "  remake = input(\"Digite 's' para rodar o programa novamente ou outra tecla para finalizar.\")\n",
        "\n"
      ],
      "metadata": {
        "id": "TdSmj33rcPLS",
        "colab": {
          "base_uri": "https://localhost:8080/"
        },
        "outputId": "71c06b8c-de81-4795-b03c-9ddb5013de2b"
      },
      "execution_count": null,
      "outputs": [
        {
          "name": "stdout",
          "output_type": "stream",
          "text": [
            "Digite a população do planeta A: 20\n",
            "Digite a população do planeta B: 25\n",
            "no ano nº1 a população de A é de 20.00 e a população de B é de 25.00!\n",
            "no ano nº2 a população de A é de 20.60 e a população de B é de 25.38!\n",
            "no ano nº3 a população de A é de 21.22 e a população de B é de 25.76!\n",
            "no ano nº4 a população de A é de 21.85 e a população de B é de 26.14!\n",
            "no ano nº5 a população de A é de 22.51 e a população de B é de 26.53!\n",
            "no ano nº6 a população de A é de 23.19 e a população de B é de 26.93!\n",
            "no ano nº7 a população de A é de 23.88 e a população de B é de 27.34!\n",
            "no ano nº8 a população de A é de 24.60 e a população de B é de 27.75!\n",
            "no ano nº9 a população de A é de 25.34 e a população de B é de 28.16!\n",
            "no ano nº10 a população de A é de 26.10 e a população de B é de 28.58!\n",
            "no ano nº11 a população de A é de 26.88 e a população de B é de 29.01!\n",
            "no ano nº12 a população de A é de 27.68 e a população de B é de 29.45!\n",
            "no ano nº13 a população de A é de 28.52 e a população de B é de 29.89!\n",
            "no ano nº14 a população de A é de 29.37 e a população de B é de 30.34!\n",
            "no ano nº15 a população de A é de 30.25 e a população de B é de 30.79!\n",
            "no ano nº16 a população de A é de 31.16 e a população de B é de 31.26!\n",
            "em 16 anos, o planeta A foi capaz de alcançar a população do planeta B.\n",
            "Digite 's' para rodar o programa novamente ou outra tecla para finalizar.s\n",
            "O planeta A já é mais populoso que o planeta B!\n",
            "Digite a população do planeta A: 10\n",
            "Digite a população do planeta B: 11\n",
            "no ano nº1 a população de A é de 10.00 e a população de B é de 11.00!\n",
            "no ano nº2 a população de A é de 10.30 e a população de B é de 11.16!\n",
            "no ano nº3 a população de A é de 10.61 e a população de B é de 11.33!\n",
            "no ano nº4 a população de A é de 10.93 e a população de B é de 11.50!\n",
            "no ano nº5 a população de A é de 11.26 e a população de B é de 11.67!\n",
            "no ano nº6 a população de A é de 11.59 e a população de B é de 11.85!\n",
            "no ano nº7 a população de A é de 11.94 e a população de B é de 12.03!\n",
            "em 7 anos, o planeta A foi capaz de alcançar a população do planeta B.\n",
            "Digite 's' para rodar o programa novamente ou outra tecla para finalizar.2\n"
          ]
        }
      ]
    },
    {
      "cell_type": "markdown",
      "source": [
        "6- Faça um programa que leia 5 números e informe a soma e a média dos números."
      ],
      "metadata": {
        "id": "h6Tf29KBcPxz"
      }
    },
    {
      "cell_type": "code",
      "source": [
        "#resolução exercício 6\n",
        "soma = 0\n",
        "numeros = []\n",
        "\n",
        "for x in range(0, 5):\n",
        "  num = int(input(\"Digite um número: \"))\n",
        "  soma += num\n",
        "  numeros.append(num)\n",
        "\n",
        "print(f\"A soma dos números {numeros} é {soma}, e a média é {soma/5}\")"
      ],
      "metadata": {
        "id": "bo9EBxbfcXr5",
        "colab": {
          "base_uri": "https://localhost:8080/"
        },
        "outputId": "1fc8b389-1a62-4967-c2f3-ca8444f86208"
      },
      "execution_count": null,
      "outputs": [
        {
          "output_type": "stream",
          "name": "stdout",
          "text": [
            "Digite um número: 4\n",
            "Digite um número: 5\n",
            "Digite um número: 7\n",
            "Digite um número: 8\n",
            "Digite um número: 10\n",
            "A soma dos números [4, 5, 7, 8, 10] é 34, e a média é 6.8\n"
          ]
        }
      ]
    },
    {
      "cell_type": "markdown",
      "source": [
        "7- Faça um programa que receba dois números inteiros e gere os números inteiros que estão no intervalo compreendido por eles."
      ],
      "metadata": {
        "id": "vlg_Q0cGcYXS"
      }
    },
    {
      "cell_type": "code",
      "source": [
        "#resolução exercício 7\n",
        "num1 = int(input(\"Digite um número: \"))\n",
        "num2 = int(input(\"Digite um número maior que o anterior: \"))\n",
        "\n",
        "print(f\"Entre os números {num1} e {num2} estão os seguintes números: \")\n",
        "\n",
        "while num1 < num2:\n",
        "  num1 += 1\n",
        "  if(num1 != num2):\n",
        "    print(num1)"
      ],
      "metadata": {
        "id": "QDjbRI91cdY6",
        "colab": {
          "base_uri": "https://localhost:8080/"
        },
        "outputId": "e68c7e56-27b5-40b6-9e5a-f02ef0369918"
      },
      "execution_count": null,
      "outputs": [
        {
          "output_type": "stream",
          "name": "stdout",
          "text": [
            "Digite um número: 0\n",
            "Digite um número maior que o anterior: 2\n",
            "Entre os números 0 e 2 estão os seguintes números: \n",
            "1\n"
          ]
        }
      ]
    },
    {
      "cell_type": "markdown",
      "source": [
        "8- Altere o programa anterior para mostrar no final a soma dos números."
      ],
      "metadata": {
        "id": "x19NxgY8cd-6"
      }
    },
    {
      "cell_type": "code",
      "source": [
        "#resolução exercício 8\n",
        "num1 = int(input(\"Digite um número: \"))\n",
        "num2 = int(input(\"Digite um número maior que o anterior: \"))\n",
        "soma = 0\n",
        "\n",
        "print(f\"Entre os números {num1} e {num2} estão os seguintes números: \")\n",
        "\n",
        "while num1 < num2:\n",
        "  num1 += 1\n",
        "  if(num1 != num2):\n",
        "    print(num1)\n",
        "  soma += num1\n",
        "print(f\"A soma destes números é {soma - num2}\")"
      ],
      "metadata": {
        "id": "BAJ0KSvVciHy",
        "colab": {
          "base_uri": "https://localhost:8080/"
        },
        "outputId": "041e2d4a-b570-4da2-b2fc-942965deb961"
      },
      "execution_count": null,
      "outputs": [
        {
          "output_type": "stream",
          "name": "stdout",
          "text": [
            "Digite um número: 2\n",
            "Digite um número maior que o anterior: 5\n",
            "Entre os números 2 e 5 estão os seguintes números: \n",
            "3\n",
            "4\n",
            "A soma destes números é 7\n"
          ]
        }
      ]
    },
    {
      "cell_type": "markdown",
      "source": [
        "9- Faça um programa que peça para n pessoas a sua idade, ao final o programa devera verificar se a média de idade da turma varia entre 0 e 25,26 e 60 e maior que 60; e então, dizer se a turma é jovem, adulta ou idosa, conforme a média calculada."
      ],
      "metadata": {
        "id": "7RbW-aJeci3q"
      }
    },
    {
      "cell_type": "code",
      "source": [
        "#resolução exercício 9\n",
        "repetir = \"s\"\n",
        "idades = []\n",
        "media = 0\n",
        "n = 0\n",
        "\n",
        "while repetir.lower() == \"s\":\n",
        "  idades.append(int(input(f\"Digite a idade da {n+1}ª pessoa: \")))\n",
        "  repetir = input(\"Cadastrar outra idade? [s/n]\")\n",
        "  while repetir.lower() != \"s\" and repetir.lower() != \"n\":\n",
        "    repetir = input(\"Por favor, digite 's' para SIM ou 'n' para NÃO: \")\n",
        "  n += 1\n",
        "for x in idades:\n",
        "  media += x\n",
        "\n",
        "media = media/n\n",
        "\n",
        "if(media >= 0 and media <= 25):\n",
        "  print(\"O grupo de pessoas imputadas é JOVEM!\")\n",
        "elif media > 25 and media <=60:\n",
        "  print(\"O grupo de pessoas imputadas é ADULTO!\")\n",
        "else:\n",
        "  print(\"O grupo de pessoas imputadas é IDOSO!\")"
      ],
      "metadata": {
        "id": "wFZ0d96Wc0Oy",
        "colab": {
          "base_uri": "https://localhost:8080/"
        },
        "outputId": "69eb78fd-6289-404d-8ab2-d92a3f329191"
      },
      "execution_count": 8,
      "outputs": [
        {
          "output_type": "stream",
          "name": "stdout",
          "text": [
            "Digite a idade da 1ª pessoa: 15\n",
            "Cadastrar outra idade? [s/n]s\n",
            "Digite a idade da 2ª pessoa: 10\n",
            "Cadastrar outra idade? [s/n]s\n",
            "Digite a idade da 3ª pessoa: 18\n",
            "Cadastrar outra idade? [s/n]n\n",
            "43\n",
            "14.333333333333334\n",
            "O grupo de pessoas imputadas é JOVEM!\n"
          ]
        }
      ]
    },
    {
      "cell_type": "markdown",
      "source": [
        "10- Numa eleição existem três candidatos. Faça um programa que peça o número total de eleitores. Peça para cada eleitor votar e ao final mostrar o número de votos de cada candidato."
      ],
      "metadata": {
        "id": "NWJ9HcrRc1Qh"
      }
    },
    {
      "cell_type": "code",
      "source": [
        "#resolução exercício 10\n",
        "c1 = 0\n",
        "c2 = 0\n",
        "c3 = 0\n",
        "voto = 0\n",
        "n = 0\n",
        "eleitores = int(input(\"Digite quantos eleitores terão nesta votação: \"))\n",
        "\n",
        "while eleitores > 0:\n",
        "  voto = int(input(\"Olá, eleitor! Vote conforme a legenda:\\n 1 - candidato 1\\n 2 - candidato 2\\n 3 - candidato 3\\nVote: \"))\n",
        "  while (voto != 1) and (voto != 2) and (voto != 3):\n",
        "    voto = int(input(\"Por favor, vote conforme a legenda:\\n 1 - candidato 1\\n 2 - candidato 2\\n 3 - candidato 3\\nVote: \"))\n",
        "  match voto:\n",
        "    case 1:\n",
        "      c1 += 1\n",
        "    case 2:\n",
        "      c2 += 1\n",
        "    case 3:\n",
        "      c3 +=1\n",
        "  eleitores -= 1\n",
        "\n",
        "print(f\"O cadidato 1 recebeu {c1} voto(s). \\nO candidato 2 recebeu {c2} voto(s). \\nO candidato 3 recebeu {c3} voto(s).\")"
      ],
      "metadata": {
        "id": "0p-RQr8Xc68K",
        "colab": {
          "base_uri": "https://localhost:8080/"
        },
        "outputId": "0d1ab174-2c86-48dd-8538-9742de89ce0e"
      },
      "execution_count": 19,
      "outputs": [
        {
          "output_type": "stream",
          "name": "stdout",
          "text": [
            "Digite quantos eleitores terão nesta votação: 3\n",
            "Olá, eleitor! Vote conforme a legenda:\n",
            " 1 - candidato 1\n",
            " 2 - candidato 2\n",
            " 3 - candidato 3\n",
            "Vote: 4\n",
            "Por favor, vote conforme a legenda:\n",
            " 1 - candidato 1\n",
            " 2 - candidato 2\n",
            " 3 - candidato 3\n",
            "Vote: 4\n",
            "Por favor, vote conforme a legenda:\n",
            " 1 - candidato 1\n",
            " 2 - candidato 2\n",
            " 3 - candidato 3\n",
            "Vote: 4\n",
            "Por favor, vote conforme a legenda:\n",
            " 1 - candidato 1\n",
            " 2 - candidato 2\n",
            " 3 - candidato 3\n",
            "Vote: 4\n",
            "Por favor, vote conforme a legenda:\n",
            " 1 - candidato 1\n",
            " 2 - candidato 2\n",
            " 3 - candidato 3\n",
            "Vote: 3\n",
            "Olá, eleitor! Vote conforme a legenda:\n",
            " 1 - candidato 1\n",
            " 2 - candidato 2\n",
            " 3 - candidato 3\n",
            "Vote: 2\n",
            "Olá, eleitor! Vote conforme a legenda:\n",
            " 1 - candidato 1\n",
            " 2 - candidato 2\n",
            " 3 - candidato 3\n",
            "Vote: 3\n",
            "O cadidato 1 recebeu 0 voto(s). \n",
            "O candidato 2 recebeu 1 voto(s). \n",
            "O candidato 3 recebeu 2 voto(s).\n"
          ]
        }
      ]
    }
  ]
}